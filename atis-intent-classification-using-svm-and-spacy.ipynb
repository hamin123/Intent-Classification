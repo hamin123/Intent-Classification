{
 "cells": [
  {
   "attachments": {},
   "cell_type": "markdown",
   "metadata": {},
   "source": [
    "# What is Intent Classification\n",
    "\n",
    "Intents are general traits that map the user’s message to the corresponding bot action (prediction workflow). For example, the phrase “What is the weather today?” will map to ‘weather_inquiry’ intent by its entire wording, and not some particular part.\n",
    "\n",
    "A restaurant_search can be expressed in many different ways:-\n",
    "\n",
    "I'm hungry. Show me good pizza spots. I want to take my boyfriend out for sushi\n",
    "\n",
    "This can also be request_booking\n",
    "\n",
    "\n"
   ]
  },
  {
   "cell_type": "code",
   "execution_count": 1,
   "metadata": {
    "_cell_guid": "b1076dfc-b9ad-4769-8c92-a6c4dae69d19",
    "_uuid": "8f2839f25d086af736a60e9eeb907d3b93b6e0e5"
   },
   "outputs": [
    {
     "name": "stdout",
     "output_type": "stream",
     "text": [
      "/kaggle/input/spacyen-vectors-web-lg/en_vectors_web_lg/meta.json\n",
      "/kaggle/input/spacyen-vectors-web-lg/en_vectors_web_lg/tokenizer\n",
      "/kaggle/input/spacyen-vectors-web-lg/en_vectors_web_lg/vocab/keys\n",
      "/kaggle/input/spacyen-vectors-web-lg/en_vectors_web_lg/vocab/lexemes.bin\n",
      "/kaggle/input/spacyen-vectors-web-lg/en_vectors_web_lg/vocab/vectors\n",
      "/kaggle/input/spacyen-vectors-web-lg/en_vectors_web_lg/vocab/strings.json\n",
      "/kaggle/input/spacyen-vectors-web-lg/spacy-en_vectors_web_lg/en_vectors_web_lg/meta.json\n",
      "/kaggle/input/spacyen-vectors-web-lg/spacy-en_vectors_web_lg/en_vectors_web_lg/tokenizer\n",
      "/kaggle/input/spacyen-vectors-web-lg/spacy-en_vectors_web_lg/en_vectors_web_lg/vocab/keys\n",
      "/kaggle/input/spacyen-vectors-web-lg/spacy-en_vectors_web_lg/en_vectors_web_lg/vocab/lexemes.bin\n",
      "/kaggle/input/spacyen-vectors-web-lg/spacy-en_vectors_web_lg/en_vectors_web_lg/vocab/vectors\n",
      "/kaggle/input/spacyen-vectors-web-lg/spacy-en_vectors_web_lg/en_vectors_web_lg/vocab/strings.json\n",
      "/kaggle/input/atis-airlinetravelinformationsystem/atis_intents.csv\n",
      "/kaggle/input/atis-airlinetravelinformationsystem/atis_intents_train.csv\n",
      "/kaggle/input/atis-airlinetravelinformationsystem/atis_intents_test.csv\n"
     ]
    }
   ],
   "source": [
    "# This Python 3 environment comes with many helpful analytics libraries installed\n",
    "# It is defined by the kaggle/python docker image: https://github.com/kaggle/docker-python\n",
    "# For example, here's several helpful packages to load in \n",
    "\n",
    "import numpy as np # linear algebra\n",
    "import pandas as pd # data processing, CSV file I/O (e.g. pd.read_csv)\n",
    "\n",
    "# Input data files are available in the \"../input/\" directory.\n",
    "# For example, running this (by clicking run or pressing Shift+Enter) will list all files under the input directory\n",
    "\n",
    "import os\n",
    "for dirname, _, filenames in os.walk('/kaggle/input'):\n",
    "    for filename in filenames:\n",
    "        print(os.path.join(dirname, filename))\n",
    "\n",
    "# Any results you write to the current directory are saved as output."
   ]
  },
  {
   "cell_type": "markdown",
   "metadata": {},
   "source": [
    "## Load Data from ATIS Dataset\n"
   ]
  },
  {
   "cell_type": "code",
   "execution_count": 2,
   "metadata": {
    "_cell_guid": "79c7e3d0-c299-4dcb-8224-4455121ee9b0",
    "_uuid": "d629ff2d2480ee46fbb7e2d37f6b5fab8052498a"
   },
   "outputs": [
    {
     "name": "stdout",
     "output_type": "stream",
     "text": [
      "[' i would like to find a flight from charlotte to las vegas that makes a stop in st. louis', ' on april first i need a ticket from tacoma to san jose departing before 7 am', ' on april first i need a flight going from phoenix to san diego'] \n",
      "\n",
      "['atis_flight', 'atis_airfare', 'atis_flight']\n"
     ]
    }
   ],
   "source": [
    "import spacy\n",
    "import csv\n",
    "\n",
    "def read_data(path):\n",
    "    with open(path, 'r') as csvfile:\n",
    "        readCSV = csv.reader(csvfile, delimiter=',')\n",
    "        labels = []\n",
    "        sentences = []\n",
    "        for row in readCSV:\n",
    "            label = row[0]\n",
    "            sentence = row[1]\n",
    "            labels.append(label)\n",
    "            sentences.append(sentence)\n",
    "    return sentences, labels\n",
    "\n",
    "# Loading Test Data\n",
    "\n",
    "sentences_test,labels_test = read_data('../input/atis-airlinetravelinformationsystem/atis_intents_test.csv')\n",
    "print(sentences_test[:3],'\\n')\n",
    "print(labels_test[:3])\n",
    "\n",
    "# Loading Training Data\n",
    "\n",
    "sentences_train,labels_train = read_data('../input/atis-airlinetravelinformationsystem/atis_intents_train.csv')\n"
   ]
  },
  {
   "cell_type": "markdown",
   "metadata": {},
   "source": [
    "## Spacy Setup"
   ]
  },
  {
   "cell_type": "code",
   "execution_count": 3,
   "metadata": {},
   "outputs": [
    {
     "name": "stdout",
     "output_type": "stream",
     "text": [
      "Collecting en_vectors_web_lg==2.1.0\r\n",
      "  Downloading https://github.com/explosion/spacy-models/releases/download/en_vectors_web_lg-2.1.0/en_vectors_web_lg-2.1.0.tar.gz (661.8 MB)\r\n",
      "\u001b[K     |████████████████████████████████| 661.8 MB 742 kB/s \r\n",
      "\u001b[?25hRequirement already satisfied: spacy<3.0.0,>=2.1.0 in /opt/conda/lib/python3.6/site-packages (from en_vectors_web_lg==2.1.0) (2.2.3)\r\n",
      "Requirement already satisfied: blis<0.5.0,>=0.4.0 in /opt/conda/lib/python3.6/site-packages (from spacy<3.0.0,>=2.1.0->en_vectors_web_lg==2.1.0) (0.4.1)\r\n",
      "Requirement already satisfied: plac<1.2.0,>=0.9.6 in /opt/conda/lib/python3.6/site-packages (from spacy<3.0.0,>=2.1.0->en_vectors_web_lg==2.1.0) (0.9.6)\r\n",
      "Requirement already satisfied: murmurhash<1.1.0,>=0.28.0 in /opt/conda/lib/python3.6/site-packages (from spacy<3.0.0,>=2.1.0->en_vectors_web_lg==2.1.0) (1.0.2)\r\n",
      "Requirement already satisfied: wasabi<1.1.0,>=0.4.0 in /opt/conda/lib/python3.6/site-packages (from spacy<3.0.0,>=2.1.0->en_vectors_web_lg==2.1.0) (0.6.0)\r\n",
      "Requirement already satisfied: numpy>=1.15.0 in /opt/conda/lib/python3.6/site-packages (from spacy<3.0.0,>=2.1.0->en_vectors_web_lg==2.1.0) (1.18.1)\r\n",
      "Requirement already satisfied: catalogue<1.1.0,>=0.0.7 in /opt/conda/lib/python3.6/site-packages (from spacy<3.0.0,>=2.1.0->en_vectors_web_lg==2.1.0) (1.0.0)\r\n",
      "Requirement already satisfied: srsly<1.1.0,>=0.1.0 in /opt/conda/lib/python3.6/site-packages (from spacy<3.0.0,>=2.1.0->en_vectors_web_lg==2.1.0) (1.0.1)\r\n",
      "Requirement already satisfied: setuptools in /opt/conda/lib/python3.6/site-packages (from spacy<3.0.0,>=2.1.0->en_vectors_web_lg==2.1.0) (45.2.0.post20200210)\r\n",
      "Requirement already satisfied: requests<3.0.0,>=2.13.0 in /opt/conda/lib/python3.6/site-packages (from spacy<3.0.0,>=2.1.0->en_vectors_web_lg==2.1.0) (2.22.0)\r\n",
      "Requirement already satisfied: preshed<3.1.0,>=3.0.2 in /opt/conda/lib/python3.6/site-packages (from spacy<3.0.0,>=2.1.0->en_vectors_web_lg==2.1.0) (3.0.2)\r\n",
      "Requirement already satisfied: cymem<2.1.0,>=2.0.2 in /opt/conda/lib/python3.6/site-packages (from spacy<3.0.0,>=2.1.0->en_vectors_web_lg==2.1.0) (2.0.3)\r\n",
      "Requirement already satisfied: thinc<7.4.0,>=7.3.0 in /opt/conda/lib/python3.6/site-packages (from spacy<3.0.0,>=2.1.0->en_vectors_web_lg==2.1.0) (7.3.1)\r\n",
      "Requirement already satisfied: importlib-metadata>=0.20; python_version < \"3.8\" in /opt/conda/lib/python3.6/site-packages (from catalogue<1.1.0,>=0.0.7->spacy<3.0.0,>=2.1.0->en_vectors_web_lg==2.1.0) (1.5.0)\r\n",
      "Requirement already satisfied: chardet<3.1.0,>=3.0.2 in /opt/conda/lib/python3.6/site-packages (from requests<3.0.0,>=2.13.0->spacy<3.0.0,>=2.1.0->en_vectors_web_lg==2.1.0) (3.0.4)\r\n",
      "Requirement already satisfied: certifi>=2017.4.17 in /opt/conda/lib/python3.6/site-packages (from requests<3.0.0,>=2.13.0->spacy<3.0.0,>=2.1.0->en_vectors_web_lg==2.1.0) (2019.11.28)\r\n",
      "Requirement already satisfied: urllib3!=1.25.0,!=1.25.1,<1.26,>=1.21.1 in /opt/conda/lib/python3.6/site-packages (from requests<3.0.0,>=2.13.0->spacy<3.0.0,>=2.1.0->en_vectors_web_lg==2.1.0) (1.25.8)\r\n",
      "Requirement already satisfied: idna<2.9,>=2.5 in /opt/conda/lib/python3.6/site-packages (from requests<3.0.0,>=2.13.0->spacy<3.0.0,>=2.1.0->en_vectors_web_lg==2.1.0) (2.8)\r\n",
      "Requirement already satisfied: tqdm<5.0.0,>=4.10.0 in /opt/conda/lib/python3.6/site-packages (from thinc<7.4.0,>=7.3.0->spacy<3.0.0,>=2.1.0->en_vectors_web_lg==2.1.0) (4.42.1)\r\n",
      "Requirement already satisfied: zipp>=0.5 in /opt/conda/lib/python3.6/site-packages (from importlib-metadata>=0.20; python_version < \"3.8\"->catalogue<1.1.0,>=0.0.7->spacy<3.0.0,>=2.1.0->en_vectors_web_lg==2.1.0) (2.2.0)\r\n",
      "Building wheels for collected packages: en-vectors-web-lg\r\n",
      "  Building wheel for en-vectors-web-lg (setup.py) ... \u001b[?25l-\b \b\\\b \b|\b \b/\b \b-\b \b\\\b \b|\b \b/\b \b-\b \b\\\b \b|\b \bdone\r\n",
      "\u001b[?25h  Created wheel for en-vectors-web-lg: filename=en_vectors_web_lg-2.1.0-py3-none-any.whl size=663461747 sha256=3ac70c02af8a88b71eb7d608283c2d5412cb573ed58edbb086d60c22fc5051ea\r\n",
      "  Stored in directory: /tmp/pip-ephem-wheel-cache-10ko0c6a/wheels/0a/72/35/51412c99345514b31f189f6ca7fdbb8da9c163eae3cb05f083\r\n",
      "Successfully built en-vectors-web-lg\r\n",
      "Installing collected packages: en-vectors-web-lg\r\n",
      "Successfully installed en-vectors-web-lg-2.1.0\r\n",
      "\u001b[38;5;2m✔ Download and installation successful\u001b[0m\r\n",
      "You can now load the model via spacy.load('en_vectors_web_lg')\r\n",
      "\u001b[38;5;2m✔ Linking successful\u001b[0m\r\n",
      "/opt/conda/lib/python3.6/site-packages/en_vectors_web_lg -->\r\n",
      "/opt/conda/lib/python3.6/site-packages/spacy/data/en_vectors_web_lg\r\n",
      "You can now load the model via spacy.load('en_vectors_web_lg')\r\n"
     ]
    }
   ],
   "source": [
    "!python -m spacy download en_vectors_web_lg\n",
    "!python -m spacy link en_vectors_web_lg en_vectors_web_lg\n"
   ]
  },
  {
   "cell_type": "markdown",
   "metadata": {},
   "source": [
    "## Loading spaCy model"
   ]
  },
  {
   "cell_type": "code",
   "execution_count": 4,
   "metadata": {},
   "outputs": [],
   "source": [
    "\n",
    "\n",
    "import spacy\n",
    "import numpy as np\n",
    "\n",
    "# Load the spacy model: nlp\n",
    "nlp = spacy.load('en_vectors_web_lg')\n",
    "\n",
    "\n"
   ]
  },
  {
   "cell_type": "code",
   "execution_count": 5,
   "metadata": {},
   "outputs": [
    {
     "name": "stdout",
     "output_type": "stream",
     "text": [
      "300\n"
     ]
    }
   ],
   "source": [
    "# Calculate the dimensionality of nlp\n",
    "embedding_dim = nlp.vocab.vectors_length\n",
    "\n",
    "print(embedding_dim)\n"
   ]
  },
  {
   "cell_type": "markdown",
   "metadata": {},
   "source": [
    "# Encoding Sentences Using spaCy NLP Model\n"
   ]
  },
  {
   "cell_type": "code",
   "execution_count": 6,
   "metadata": {},
   "outputs": [
    {
     "name": "stdout",
     "output_type": "stream",
     "text": [
      "Length :- 4834\n",
      "Length :- 800\n"
     ]
    }
   ],
   "source": [
    "\n",
    "def encode_sentences(sentences):\n",
    "    # Calculate number of sentences\n",
    "    n_sentences = len(sentences)\n",
    "\n",
    "    print('Length :-',n_sentences)\n",
    "\n",
    "    X = np.zeros((n_sentences, embedding_dim))\n",
    "    #y = np.zeros((n_sentences, embedding_dim))\n",
    "\n",
    "    # Iterate over the sentences\n",
    "    for idx, sentence in enumerate(sentences):\n",
    "        # Pass each sentence to the nlp object to create a document\n",
    "        doc = nlp(sentence)\n",
    "        # Save the document's .vector attribute to the corresponding row in     \n",
    "        # X\n",
    "        X[idx, :] = doc.vector\n",
    "    return X\n",
    "\n",
    "train_X = encode_sentences(sentences_train)\n",
    "test_X = encode_sentences(sentences_test)\n"
   ]
  },
  {
   "cell_type": "markdown",
   "metadata": {},
   "source": [
    "# Label Encoding"
   ]
  },
  {
   "cell_type": "code",
   "execution_count": 7,
   "metadata": {},
   "outputs": [
    {
     "name": "stdout",
     "output_type": "stream",
     "text": [
      "Number of labels :- 4834\n",
      "[4 4 5 2 2 4 1 4 4 6 4 4 4 4 2 6 4 4 4 4 4 4 1 2 4 3 4 6 4 2 4 4 4 4 2 3 4\n",
      " 4 4 4 3 3 4 3 6 0 4 4 5 4 4 4 0 4 4 4 4 4 3 4 6 3 4 4 4 4 0 4 4 4 4 1 2 4\n",
      " 4 4 4 4 4 4 3 4 4 4 4 4 4 4 2 4 6 7 4 4 4 4 4 4 4 4]\n",
      "Length of y :-  (4834,)\n",
      "Number of labels :- 800\n",
      "[4 2 4 4 4 4 4 4 4 4 4 4 4 4 4 4 4 4 4 4 4 4 4 4 4 4 4 4 4 4 4 6 4 4 4 4 4\n",
      " 4 4 4 4 4 4 4 4 4 4 4 4 4 4 4 4 4 4 4 4 4 4 4 4 4 4 4 4 4 4 4 4 4 4 4 4 4\n",
      " 4 4 4 4 4 4 4 4 4 4 4 4 4 4 4 4 4 4 4 4 4 4 4 2 3 5]\n",
      "Length of y :-  (800,)\n"
     ]
    }
   ],
   "source": [
    "def label_encoding(labels):\n",
    "    # Calculate the length of labels\n",
    "\n",
    "    n_labels = len(labels)\n",
    "    print('Number of labels :-',n_labels)\n",
    "\n",
    "\n",
    "    # import labelencoder\n",
    "    from sklearn.preprocessing import LabelEncoder\n",
    "    # instantiate labelencoder object\n",
    "    le = LabelEncoder()\n",
    "    y =le.fit_transform(labels)\n",
    "    print(y[:100])\n",
    "    print('Length of y :- ',y.shape)\n",
    "    return y\n",
    "\n",
    "train_y = label_encoding(labels_train)\n",
    "test_y = label_encoding(labels_test)\n"
   ]
  },
  {
   "cell_type": "markdown",
   "metadata": {},
   "source": [
    "# EDA"
   ]
  },
  {
   "cell_type": "code",
   "execution_count": 8,
   "metadata": {},
   "outputs": [
    {
     "name": "stdout",
     "output_type": "stream",
     "text": [
      "There are 4833 rows and 2 columns\n"
     ]
    }
   ],
   "source": [
    "df1 = pd.read_csv('../input/atis-airlinetravelinformationsystem/atis_intents_train.csv', delimiter=',')\n",
    "df1.dataframeName = 'atis_intents_train.csv'\n",
    "nRow, nCol = df1.shape\n",
    "print(f'There are {nRow} rows and {nCol} columns')"
   ]
  },
  {
   "cell_type": "code",
   "execution_count": 9,
   "metadata": {},
   "outputs": [
    {
     "data": {
      "text/html": [
       "<div>\n",
       "<style scoped>\n",
       "    .dataframe tbody tr th:only-of-type {\n",
       "        vertical-align: middle;\n",
       "    }\n",
       "\n",
       "    .dataframe tbody tr th {\n",
       "        vertical-align: top;\n",
       "    }\n",
       "\n",
       "    .dataframe thead th {\n",
       "        text-align: right;\n",
       "    }\n",
       "</style>\n",
       "<table border=\"1\" class=\"dataframe\">\n",
       "  <thead>\n",
       "    <tr style=\"text-align: right;\">\n",
       "      <th></th>\n",
       "      <th>atis_flight</th>\n",
       "      <th>i want to fly from boston at 838 am and arrive in denver at 1110 in the morning</th>\n",
       "    </tr>\n",
       "  </thead>\n",
       "  <tbody>\n",
       "    <tr>\n",
       "      <th>766</th>\n",
       "      <td>atis_flight</td>\n",
       "      <td>now i need a flight leaving fort worth and ar...</td>\n",
       "    </tr>\n",
       "    <tr>\n",
       "      <th>484</th>\n",
       "      <td>atis_ground_service</td>\n",
       "      <td>is there ground transportation from san diego...</td>\n",
       "    </tr>\n",
       "    <tr>\n",
       "      <th>4204</th>\n",
       "      <td>atis_flight</td>\n",
       "      <td>what flights does american airlines have from...</td>\n",
       "    </tr>\n",
       "    <tr>\n",
       "      <th>680</th>\n",
       "      <td>atis_flight</td>\n",
       "      <td>flights from kansas city to cleveland and price</td>\n",
       "    </tr>\n",
       "    <tr>\n",
       "      <th>552</th>\n",
       "      <td>atis_flight</td>\n",
       "      <td>what are the latest flights that i can take f...</td>\n",
       "    </tr>\n",
       "    <tr>\n",
       "      <th>546</th>\n",
       "      <td>atis_ground_service</td>\n",
       "      <td>is there ground transportation in oakland</td>\n",
       "    </tr>\n",
       "    <tr>\n",
       "      <th>1206</th>\n",
       "      <td>atis_flight</td>\n",
       "      <td>show me all the flights from montreal to detroit</td>\n",
       "    </tr>\n",
       "    <tr>\n",
       "      <th>4336</th>\n",
       "      <td>atis_flight</td>\n",
       "      <td>show me the flights from baltimore to oakland</td>\n",
       "    </tr>\n",
       "    <tr>\n",
       "      <th>937</th>\n",
       "      <td>atis_flight</td>\n",
       "      <td>show me the flights from columbus to charlotte</td>\n",
       "    </tr>\n",
       "    <tr>\n",
       "      <th>120</th>\n",
       "      <td>atis_aircraft</td>\n",
       "      <td>on the 8 am flight from san francisco to atla...</td>\n",
       "    </tr>\n",
       "  </tbody>\n",
       "</table>\n",
       "</div>"
      ],
      "text/plain": [
       "              atis_flight  \\\n",
       "766           atis_flight   \n",
       "484   atis_ground_service   \n",
       "4204          atis_flight   \n",
       "680           atis_flight   \n",
       "552           atis_flight   \n",
       "546   atis_ground_service   \n",
       "1206          atis_flight   \n",
       "4336          atis_flight   \n",
       "937           atis_flight   \n",
       "120         atis_aircraft   \n",
       "\n",
       "      i want to fly from boston at 838 am and arrive in denver at 1110 in the morning  \n",
       "766    now i need a flight leaving fort worth and ar...                                \n",
       "484    is there ground transportation from san diego...                                \n",
       "4204   what flights does american airlines have from...                                \n",
       "680     flights from kansas city to cleveland and price                                \n",
       "552    what are the latest flights that i can take f...                                \n",
       "546           is there ground transportation in oakland                                \n",
       "1206   show me all the flights from montreal to detroit                                \n",
       "4336      show me the flights from baltimore to oakland                                \n",
       "937      show me the flights from columbus to charlotte                                \n",
       "120    on the 8 am flight from san francisco to atla...                                "
      ]
     },
     "execution_count": 9,
     "metadata": {},
     "output_type": "execute_result"
    }
   ],
   "source": [
    "df1.sample(10)"
   ]
  },
  {
   "cell_type": "code",
   "execution_count": 10,
   "metadata": {},
   "outputs": [
    {
     "data": {
      "text/html": [
       "<div>\n",
       "<style scoped>\n",
       "    .dataframe tbody tr th:only-of-type {\n",
       "        vertical-align: middle;\n",
       "    }\n",
       "\n",
       "    .dataframe tbody tr th {\n",
       "        vertical-align: top;\n",
       "    }\n",
       "\n",
       "    .dataframe thead th {\n",
       "        text-align: right;\n",
       "    }\n",
       "</style>\n",
       "<table border=\"1\" class=\"dataframe\">\n",
       "  <thead>\n",
       "    <tr style=\"text-align: right;\">\n",
       "      <th></th>\n",
       "      <th>atis_flight</th>\n",
       "      <th>i want to fly from boston at 838 am and arrive in denver at 1110 in the morning</th>\n",
       "    </tr>\n",
       "  </thead>\n",
       "  <tbody>\n",
       "    <tr>\n",
       "      <th>count</th>\n",
       "      <td>4833</td>\n",
       "      <td>4833</td>\n",
       "    </tr>\n",
       "    <tr>\n",
       "      <th>unique</th>\n",
       "      <td>8</td>\n",
       "      <td>4498</td>\n",
       "    </tr>\n",
       "    <tr>\n",
       "      <th>top</th>\n",
       "      <td>atis_flight</td>\n",
       "      <td>what is fare code h</td>\n",
       "    </tr>\n",
       "    <tr>\n",
       "      <th>freq</th>\n",
       "      <td>3665</td>\n",
       "      <td>8</td>\n",
       "    </tr>\n",
       "  </tbody>\n",
       "</table>\n",
       "</div>"
      ],
      "text/plain": [
       "        atis_flight  \\\n",
       "count          4833   \n",
       "unique            8   \n",
       "top     atis_flight   \n",
       "freq           3665   \n",
       "\n",
       "        i want to fly from boston at 838 am and arrive in denver at 1110 in the morning  \n",
       "count                                                4833                                \n",
       "unique                                               4498                                \n",
       "top                                   what is fare code h                                \n",
       "freq                                                    8                                "
      ]
     },
     "execution_count": 10,
     "metadata": {},
     "output_type": "execute_result"
    }
   ],
   "source": [
    "df1.describe()"
   ]
  },
  {
   "cell_type": "code",
   "execution_count": 11,
   "metadata": {},
   "outputs": [
    {
     "data": {
      "text/plain": [
       "Text(0, 0.5, 'Frequency')"
      ]
     },
     "execution_count": 11,
     "metadata": {},
     "output_type": "execute_result"
    },
    {
     "data": {
      "image/png": "[encoded data removed]",
      "text/plain": [
       "<Figure size 432x288 with 1 Axes>"
      ]
     },
     "metadata": {
      "needs_background": "light"
     },
     "output_type": "display_data"
    }
   ],
   "source": [
    "import matplotlib.pyplot as plt\n",
    "import seaborn as sns\n",
    "\n",
    "# matplotlib histogram\n",
    "plt.hist(train_y)\n",
    "\n",
    "# Add labels\n",
    "plt.title('Histogram of Intent Lables')\n",
    "plt.xlabel('Intent Types')\n",
    "plt.ylabel('Frequency')\n",
    "#df1['atis_flight'].hist()"
   ]
  },
  {
   "cell_type": "markdown",
   "metadata": {},
   "source": [
    "## Intent classification with SVM | Training Step"
   ]
  },
  {
   "cell_type": "code",
   "execution_count": 12,
   "metadata": {},
   "outputs": [],
   "source": [
    "# Import SVC\n",
    "from sklearn.svm import SVC\n",
    "# X_train and y_train was given.\n",
    "def svc_training(X,y):\n",
    "    # Create a support vector classifier\n",
    "    clf = SVC(C=1)\n",
    "\n",
    "    # Fit the classifier using the training data\n",
    "    clf.fit(X, y)\n",
    "    return clf\n",
    "\n",
    "model = svc_training(train_X,train_y)\n"
   ]
  },
  {
   "cell_type": "code",
   "execution_count": 13,
   "metadata": {},
   "outputs": [
    {
     "name": "stdout",
     "output_type": "stream",
     "text": [
      "Predicted 4591 correctly out of 4834 training examples\n",
      "Predicted 777 correctly out of 800 training examples\n"
     ]
    }
   ],
   "source": [
    "#Validation Step\n",
    "\n",
    "def svc_validation(model,X,y):\n",
    "    # Predict the labels of the test set\n",
    "    y_pred = model.predict(X)\n",
    "\n",
    "    # Count the number of correct predictions\n",
    "    n_correct = 0\n",
    "    for i in range(len(y)):\n",
    "        if y_pred[i] == y[i]:\n",
    "            n_correct += 1\n",
    "\n",
    "    print(\"Predicted {0} correctly out of {1} training examples\".format(n_correct, len(y)))\n",
    "\n",
    "\n",
    "svc_validation(model,train_X,train_y)\n",
    "svc_validation(model,test_X,test_y)\n"
   ]
  },
  {
   "cell_type": "code",
   "execution_count": 14,
   "metadata": {},
   "outputs": [
    {
     "name": "stdout",
     "output_type": "stream",
     "text": [
      "              precision    recall  f1-score   support\n",
      "\n",
      "           0       1.00      1.00      1.00        33\n",
      "           1       0.75      1.00      0.86         9\n",
      "           2       0.95      0.88      0.91        48\n",
      "           3       1.00      0.76      0.87        38\n",
      "           4       0.97      0.99      0.98       632\n",
      "           5       0.00      0.00      0.00         1\n",
      "           6       1.00      1.00      1.00        36\n",
      "           7       0.67      0.67      0.67         3\n",
      "\n",
      "    accuracy                           0.97       800\n",
      "   macro avg       0.79      0.79      0.79       800\n",
      "weighted avg       0.97      0.97      0.97       800\n",
      "\n"
     ]
    },
    {
     "name": "stderr",
     "output_type": "stream",
     "text": [
      "/opt/conda/lib/python3.6/site-packages/sklearn/metrics/_classification.py:1272: UndefinedMetricWarning: Precision and F-score are ill-defined and being set to 0.0 in labels with no predicted samples. Use `zero_division` parameter to control this behavior.\n",
      "  _warn_prf(average, modifier, msg_start, len(result))\n"
     ]
    }
   ],
   "source": [
    "from sklearn.metrics import classification_report\n",
    "y_true, y_pred = test_y, model.predict(test_X)\n",
    "print(classification_report(y_true, y_pred))\n",
    "   \n"
   ]
  },
  {
   "cell_type": "markdown",
   "metadata": {},
   "source": [
    "# Conclusion\n",
    "\n",
    "This is an imbalanced dataset with some of the classes having small number of samples. The resulting poor classification accuracy can be seen in the results."
   ]
  },
  {
   "cell_type": "markdown",
   "metadata": {},
   "source": [
    "## Note\n",
    "Please share, upvote and comment to help me create and share more content for the community.\n",
    "Thank you all."
   ]
  }
 ],
 "metadata": {
  "kernelspec": {
   "display_name": "Python 3",
   "language": "python",
   "name": "python3"
  },
  "language_info": {
   "codemirror_mode": {
    "name": "ipython",
    "version": 3
   },
   "file_extension": ".py",
   "mimetype": "text/x-python",
   "name": "python",
   "nbconvert_exporter": "python",
   "pygments_lexer": "ipython3",
   "version": "3.6.6"
  }
 },
 "nbformat": 4,
 "nbformat_minor": 1
}
